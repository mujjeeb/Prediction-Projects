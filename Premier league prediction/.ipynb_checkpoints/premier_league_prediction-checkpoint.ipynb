{
 "cells": [
  {
   "cell_type": "code",
   "execution_count": 1,
   "id": "e35cc153",
   "metadata": {},
   "outputs": [],
   "source": [
    "import pandas as pd\n"
   ]
  },
  {
   "cell_type": "code",
   "execution_count": 13,
   "id": "3ef319a9",
   "metadata": {},
   "outputs": [],
   "source": [
    "matches = pd.read_csv('matches.csv', index_col= 0)"
   ]
  },
  {
   "cell_type": "code",
   "execution_count": 14,
   "id": "8885e591",
   "metadata": {},
   "outputs": [
    {
     "data": {
      "text/plain": [
       "(1680, 27)"
      ]
     },
     "execution_count": 14,
     "metadata": {},
     "output_type": "execute_result"
    }
   ],
   "source": [
    "matches.shape"
   ]
  },
  {
   "cell_type": "code",
   "execution_count": 15,
   "id": "58227c1d",
   "metadata": {},
   "outputs": [
    {
     "data": {
      "text/html": [
       "<div>\n",
       "<style scoped>\n",
       "    .dataframe tbody tr th:only-of-type {\n",
       "        vertical-align: middle;\n",
       "    }\n",
       "\n",
       "    .dataframe tbody tr th {\n",
       "        vertical-align: top;\n",
       "    }\n",
       "\n",
       "    .dataframe thead th {\n",
       "        text-align: right;\n",
       "    }\n",
       "</style>\n",
       "<table border=\"1\" class=\"dataframe\">\n",
       "  <thead>\n",
       "    <tr style=\"text-align: right;\">\n",
       "      <th></th>\n",
       "      <th>date</th>\n",
       "      <th>time</th>\n",
       "      <th>comp</th>\n",
       "      <th>round</th>\n",
       "      <th>day</th>\n",
       "      <th>venue</th>\n",
       "      <th>result</th>\n",
       "      <th>gf</th>\n",
       "      <th>ga</th>\n",
       "      <th>opponent</th>\n",
       "      <th>...</th>\n",
       "      <th>match report</th>\n",
       "      <th>notes</th>\n",
       "      <th>sh</th>\n",
       "      <th>sot</th>\n",
       "      <th>dist</th>\n",
       "      <th>fk</th>\n",
       "      <th>pk</th>\n",
       "      <th>pkatt</th>\n",
       "      <th>season</th>\n",
       "      <th>team</th>\n",
       "    </tr>\n",
       "  </thead>\n",
       "  <tbody>\n",
       "    <tr>\n",
       "      <th>0</th>\n",
       "      <td>2023-08-13</td>\n",
       "      <td>14:00</td>\n",
       "      <td>Premier League</td>\n",
       "      <td>Matchweek 1</td>\n",
       "      <td>Sun</td>\n",
       "      <td>Away</td>\n",
       "      <td>D</td>\n",
       "      <td>2.0</td>\n",
       "      <td>2.0</td>\n",
       "      <td>Brentford</td>\n",
       "      <td>...</td>\n",
       "      <td>Match Report</td>\n",
       "      <td>NaN</td>\n",
       "      <td>18.0</td>\n",
       "      <td>6.0</td>\n",
       "      <td>19.6</td>\n",
       "      <td>0.0</td>\n",
       "      <td>0.0</td>\n",
       "      <td>0.0</td>\n",
       "      <td>2023</td>\n",
       "      <td>Tottenham Hotspur</td>\n",
       "    </tr>\n",
       "    <tr>\n",
       "      <th>1</th>\n",
       "      <td>2023-08-19</td>\n",
       "      <td>17:30</td>\n",
       "      <td>Premier League</td>\n",
       "      <td>Matchweek 2</td>\n",
       "      <td>Sat</td>\n",
       "      <td>Home</td>\n",
       "      <td>W</td>\n",
       "      <td>2.0</td>\n",
       "      <td>0.0</td>\n",
       "      <td>Manchester Utd</td>\n",
       "      <td>...</td>\n",
       "      <td>Match Report</td>\n",
       "      <td>NaN</td>\n",
       "      <td>17.0</td>\n",
       "      <td>6.0</td>\n",
       "      <td>13.8</td>\n",
       "      <td>0.0</td>\n",
       "      <td>0.0</td>\n",
       "      <td>0.0</td>\n",
       "      <td>2023</td>\n",
       "      <td>Tottenham Hotspur</td>\n",
       "    </tr>\n",
       "    <tr>\n",
       "      <th>2</th>\n",
       "      <td>2023-08-26</td>\n",
       "      <td>12:30</td>\n",
       "      <td>Premier League</td>\n",
       "      <td>Matchweek 3</td>\n",
       "      <td>Sat</td>\n",
       "      <td>Away</td>\n",
       "      <td>W</td>\n",
       "      <td>2.0</td>\n",
       "      <td>0.0</td>\n",
       "      <td>Bournemouth</td>\n",
       "      <td>...</td>\n",
       "      <td>Match Report</td>\n",
       "      <td>NaN</td>\n",
       "      <td>17.0</td>\n",
       "      <td>6.0</td>\n",
       "      <td>16.6</td>\n",
       "      <td>1.0</td>\n",
       "      <td>0.0</td>\n",
       "      <td>0.0</td>\n",
       "      <td>2023</td>\n",
       "      <td>Tottenham Hotspur</td>\n",
       "    </tr>\n",
       "    <tr>\n",
       "      <th>4</th>\n",
       "      <td>2023-09-02</td>\n",
       "      <td>15:00</td>\n",
       "      <td>Premier League</td>\n",
       "      <td>Matchweek 4</td>\n",
       "      <td>Sat</td>\n",
       "      <td>Away</td>\n",
       "      <td>W</td>\n",
       "      <td>5.0</td>\n",
       "      <td>2.0</td>\n",
       "      <td>Burnley</td>\n",
       "      <td>...</td>\n",
       "      <td>Match Report</td>\n",
       "      <td>NaN</td>\n",
       "      <td>21.0</td>\n",
       "      <td>11.0</td>\n",
       "      <td>19.3</td>\n",
       "      <td>0.0</td>\n",
       "      <td>0.0</td>\n",
       "      <td>0.0</td>\n",
       "      <td>2023</td>\n",
       "      <td>Tottenham Hotspur</td>\n",
       "    </tr>\n",
       "    <tr>\n",
       "      <th>5</th>\n",
       "      <td>2023-09-16</td>\n",
       "      <td>15:00</td>\n",
       "      <td>Premier League</td>\n",
       "      <td>Matchweek 5</td>\n",
       "      <td>Sat</td>\n",
       "      <td>Home</td>\n",
       "      <td>W</td>\n",
       "      <td>2.0</td>\n",
       "      <td>1.0</td>\n",
       "      <td>Sheffield Utd</td>\n",
       "      <td>...</td>\n",
       "      <td>Match Report</td>\n",
       "      <td>NaN</td>\n",
       "      <td>28.0</td>\n",
       "      <td>10.0</td>\n",
       "      <td>16.4</td>\n",
       "      <td>0.0</td>\n",
       "      <td>0.0</td>\n",
       "      <td>0.0</td>\n",
       "      <td>2023</td>\n",
       "      <td>Tottenham Hotspur</td>\n",
       "    </tr>\n",
       "  </tbody>\n",
       "</table>\n",
       "<p>5 rows × 27 columns</p>\n",
       "</div>"
      ],
      "text/plain": [
       "         date   time            comp        round  day venue result   gf   ga  \\\n",
       "0  2023-08-13  14:00  Premier League  Matchweek 1  Sun  Away      D  2.0  2.0   \n",
       "1  2023-08-19  17:30  Premier League  Matchweek 2  Sat  Home      W  2.0  0.0   \n",
       "2  2023-08-26  12:30  Premier League  Matchweek 3  Sat  Away      W  2.0  0.0   \n",
       "4  2023-09-02  15:00  Premier League  Matchweek 4  Sat  Away      W  5.0  2.0   \n",
       "5  2023-09-16  15:00  Premier League  Matchweek 5  Sat  Home      W  2.0  1.0   \n",
       "\n",
       "         opponent  ...  match report  notes    sh   sot  dist   fk   pk pkatt  \\\n",
       "0       Brentford  ...  Match Report    NaN  18.0   6.0  19.6  0.0  0.0   0.0   \n",
       "1  Manchester Utd  ...  Match Report    NaN  17.0   6.0  13.8  0.0  0.0   0.0   \n",
       "2     Bournemouth  ...  Match Report    NaN  17.0   6.0  16.6  1.0  0.0   0.0   \n",
       "4         Burnley  ...  Match Report    NaN  21.0  11.0  19.3  0.0  0.0   0.0   \n",
       "5   Sheffield Utd  ...  Match Report    NaN  28.0  10.0  16.4  0.0  0.0   0.0   \n",
       "\n",
       "   season               team  \n",
       "0    2023  Tottenham Hotspur  \n",
       "1    2023  Tottenham Hotspur  \n",
       "2    2023  Tottenham Hotspur  \n",
       "4    2023  Tottenham Hotspur  \n",
       "5    2023  Tottenham Hotspur  \n",
       "\n",
       "[5 rows x 27 columns]"
      ]
     },
     "execution_count": 15,
     "metadata": {},
     "output_type": "execute_result"
    }
   ],
   "source": [
    "matches.head()"
   ]
  },
  {
   "cell_type": "code",
   "execution_count": 16,
   "id": "a0d46311",
   "metadata": {},
   "outputs": [
    {
     "data": {
      "text/plain": [
       "Tottenham Hotspur           84\n",
       "Crystal Palace              84\n",
       "Everton                     84\n",
       "Brentford                   84\n",
       "Wolverhampton Wanderers     84\n",
       "Arsenal                     84\n",
       "Chelsea                     84\n",
       "Manchester United           84\n",
       "Newcastle United            84\n",
       "West Ham United             84\n",
       "Brighton and Hove Albion    84\n",
       "Aston Villa                 84\n",
       "Liverpool                   84\n",
       "Manchester City             84\n",
       "Southampton                 76\n",
       "Leeds United                76\n",
       "Leicester City              76\n",
       "Bournemouth                 46\n",
       "Nottingham Forest           46\n",
       "Burnley                     46\n",
       "Fulham                      46\n",
       "Watford                     38\n",
       "Norwich City                38\n",
       "Sheffield United             8\n",
       "Luton Town                   8\n",
       "Name: team, dtype: int64"
      ]
     },
     "execution_count": 16,
     "metadata": {},
     "output_type": "execute_result"
    }
   ],
   "source": [
    "matches['team'].value_counts()"
   ]
  },
  {
   "cell_type": "code",
   "execution_count": 17,
   "id": "ffc595ff",
   "metadata": {},
   "outputs": [
    {
     "data": {
      "text/plain": [
       "Matchweek 1     60\n",
       "Matchweek 3     60\n",
       "Matchweek 4     60\n",
       "Matchweek 5     60\n",
       "Matchweek 6     60\n",
       "Matchweek 7     60\n",
       "Matchweek 8     60\n",
       "Matchweek 2     60\n",
       "Matchweek 33    40\n",
       "Matchweek 26    40\n",
       "Matchweek 27    40\n",
       "Matchweek 29    40\n",
       "Matchweek 30    40\n",
       "Matchweek 31    40\n",
       "Matchweek 35    40\n",
       "Matchweek 34    40\n",
       "Matchweek 28    40\n",
       "Matchweek 24    40\n",
       "Matchweek 36    40\n",
       "Matchweek 37    40\n",
       "Matchweek 32    40\n",
       "Matchweek 25    40\n",
       "Matchweek 21    40\n",
       "Matchweek 12    40\n",
       "Matchweek 23    40\n",
       "Matchweek 22    40\n",
       "Matchweek 20    40\n",
       "Matchweek 19    40\n",
       "Matchweek 18    40\n",
       "Matchweek 17    40\n",
       "Matchweek 16    40\n",
       "Matchweek 15    40\n",
       "Matchweek 14    40\n",
       "Matchweek 13    40\n",
       "Matchweek 11    40\n",
       "Matchweek 10    40\n",
       "Matchweek 9     40\n",
       "Matchweek 38    40\n",
       "Name: round, dtype: int64"
      ]
     },
     "execution_count": 17,
     "metadata": {},
     "output_type": "execute_result"
    }
   ],
   "source": [
    "matches['round'].value_counts()"
   ]
  },
  {
   "cell_type": "code",
   "execution_count": 18,
   "id": "3de08bc2",
   "metadata": {},
   "outputs": [
    {
     "data": {
      "text/plain": [
       "date             object\n",
       "time             object\n",
       "comp             object\n",
       "round            object\n",
       "day              object\n",
       "venue            object\n",
       "result           object\n",
       "gf              float64\n",
       "ga              float64\n",
       "opponent         object\n",
       "xg              float64\n",
       "xga             float64\n",
       "poss            float64\n",
       "attendance      float64\n",
       "captain          object\n",
       "formation        object\n",
       "referee          object\n",
       "match report     object\n",
       "notes           float64\n",
       "sh              float64\n",
       "sot             float64\n",
       "dist            float64\n",
       "fk              float64\n",
       "pk              float64\n",
       "pkatt           float64\n",
       "season            int64\n",
       "team             object\n",
       "dtype: object"
      ]
     },
     "execution_count": 18,
     "metadata": {},
     "output_type": "execute_result"
    }
   ],
   "source": [
    "matches.dtypes"
   ]
  },
  {
   "cell_type": "code",
   "execution_count": 19,
   "id": "2db89179",
   "metadata": {},
   "outputs": [],
   "source": [
    "matches['date']=pd.to_datetime(matches['date'])"
   ]
  },
  {
   "cell_type": "code",
   "execution_count": 20,
   "id": "4115d46f",
   "metadata": {},
   "outputs": [],
   "source": [
    "# Create a predictor for the ML model (venue column as the model will only work with numerical values. Home advantage is a great predictor for possible win or loss)\n",
    "matches['venue_code']= matches['venue'].astype('category').cat.codes"
   ]
  },
  {
   "cell_type": "code",
   "execution_count": 22,
   "id": "03bd746f",
   "metadata": {},
   "outputs": [],
   "source": [
    "# Create a predictor for the ML model(Opponent column as the model will only work with numerical values)\n",
    "matches['opp_code']= matches['opponent'].astype('category').cat.codes"
   ]
  },
  {
   "cell_type": "code",
   "execution_count": 24,
   "id": "4f18738f",
   "metadata": {},
   "outputs": [],
   "source": [
    "# Create a predictor for the ML model(Hour column as the model will only work with numerical values. We are assuming that the time the match is been played affects performance)\n",
    "matches['hour']= matches['time'].str.replace(\":.+\",\"\",regex=True).astype('int')"
   ]
  },
  {
   "cell_type": "code",
   "execution_count": null,
   "id": "a0159209",
   "metadata": {},
   "outputs": [],
   "source": []
  },
  {
   "cell_type": "markdown",
   "id": "354b3346",
   "metadata": {},
   "source": []
  },
  {
   "cell_type": "code",
   "execution_count": null,
   "id": "4dfb2eb3",
   "metadata": {},
   "outputs": [],
   "source": []
  }
 ],
 "metadata": {
  "kernelspec": {
   "display_name": "Python 3 (ipykernel)",
   "language": "python",
   "name": "python3"
  },
  "language_info": {
   "codemirror_mode": {
    "name": "ipython",
    "version": 3
   },
   "file_extension": ".py",
   "mimetype": "text/x-python",
   "name": "python",
   "nbconvert_exporter": "python",
   "pygments_lexer": "ipython3",
   "version": "3.11.4"
  }
 },
 "nbformat": 4,
 "nbformat_minor": 5
}
