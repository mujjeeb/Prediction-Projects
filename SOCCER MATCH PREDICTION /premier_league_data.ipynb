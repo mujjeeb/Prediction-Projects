{
  "cells": [
    {
      "cell_type": "code",
      "source": [
        "# Get game and player data\n",
        "import requests\n",
        "import pandas as pd\n",
        "from datetime import timedelta, date\n",
        "\n",
        "def daterange(start_date, end_date):\n",
        "    for n in range(int((end_date - start_date).days) + 1):\n",
        "        yield start_date + timedelta(n)\n",
        "\n",
        "def get_sportsdata_io_data(start_date, end_date):\n",
        "    base_url = \"https://api.sportsdata.io/v4/soccer\"\n",
        "    api_key = \"b1c341e1840e41e892f2c4fa1521fe06\"\n",
        "\n",
        "    for single_date in daterange(start_date, end_date):\n",
        "        formatted_date = single_date.strftime(\"%Y-%m-%d\")\n",
        "\n",
        "        # Games by Date\n",
        "        games_by_date_url = f\"{base_url}/stats/json/GamesByDate/EPL/{formatted_date}?key={api_key}\"\n",
        "        games_by_date_response = requests.get(games_by_date_url)\n",
        "        games_by_date_data = games_by_date_response.json()\n",
        "        games_by_date_df = pd.DataFrame(games_by_date_data)\n",
        "\n",
        "        # Append game data to a CSV file\n",
        "        with open(\"games_by_date_range.csv\", \"a\", newline=\"\") as file:\n",
        "            games_by_date_df.to_csv(file, index=False, header=not file.tell())\n",
        "\n",
        "        # Player Game Stats\n",
        "        player_game_url = f\"{base_url}/stats/json/PlayerGameStatsByDate/EPL/{formatted_date}?key={api_key}\"\n",
        "        player_game_response = requests.get(player_game_url)\n",
        "        player_game_data = player_game_response.json()\n",
        "        player_game_df = pd.DataFrame(player_game_data)\n",
        "\n",
        "        # Append player stats to a CSV file\n",
        "        with open(\"player_game_stats_range.csv\", \"a\", newline=\"\") as file:\n",
        "            player_game_df.to_csv(file, index=False, header=not file.tell())\n",
        "\n",
        "# Specify start_date and end_date\n",
        "start_date = date(2023, 8, 12)\n",
        "end_date = date(2023, 11, 30)\n",
        "\n",
        "# Call the function\n",
        "get_sportsdata_io_data(start_date, end_date)\n"
      ],
      "metadata": {
        "id": "es6UcnTQpORz"
      },
      "execution_count": null,
      "outputs": []
    },
    {
      "cell_type": "code",
      "source": [
        "# Get Team data\n",
        "import requests\n",
        "import pandas as pd\n",
        "from datetime import datetime, timedelta\n",
        "\n",
        "def get_sportsdata_io_data(start_date, end_date):\n",
        "    base_url = \"https://api.sportsdata.io/v4/soccer\"\n",
        "    api_key = \"b1c341e1840e41e892f2c4fa1521fe06\"\n",
        "\n",
        "    current_date = datetime.strptime(start_date, \"%Y-%m-%d\")\n",
        "    end_date = datetime.strptime(end_date, \"%Y-%m-%d\")\n",
        "\n",
        "    while current_date <= end_date:\n",
        "        formatted_date = current_date.strftime(\"%Y-%m-%d\")\n",
        "\n",
        "        # Team Game Stats\n",
        "        team_game_stats_url = f\"{base_url}/scores/json/TeamGameStatsByDate/EPL/{formatted_date}?key={api_key}\"\n",
        "        team_game_stats_response = requests.get(team_game_stats_url)\n",
        "        team_game_stats_data = team_game_stats_response.json()\n",
        "\n",
        "        if team_game_stats_data:\n",
        "            team_game_stats_df = pd.DataFrame(team_game_stats_data)\n",
        "            team_game_stats_df.to_csv(\"team_game_stats.csv\", mode='a', header=not current_date, index=False)\n",
        "\n",
        "        current_date += timedelta(days=1)\n",
        "\n",
        "# Specify start_date and end_date\n",
        "start_date = '2023-08-12'\n",
        "end_date = '2023-11-30'\n",
        "\n",
        "# Call the function\n",
        "get_sportsdata_io_data(start_date, end_date)\n"
      ],
      "metadata": {
        "id": "wngTqr8gpNEu"
      },
      "execution_count": null,
      "outputs": []
    },
    {
      "cell_type": "code",
      "source": [
        "import pandas as pd\n",
        "\n",
        "# Load the CSV files\n",
        "games_df = pd.read_csv('games_by_date_range.csv')\n",
        "team_stats_df = pd.read_csv('team_game_stats.csv')\n",
        "\n",
        "# Merge the tables on the 'GameId' column\n",
        "merged_data = pd.merge(games_df, team_stats_df, on='GameId', how='inner')\n",
        "\n",
        "# Save the merged data to a new CSV file\n",
        "merged_data.to_csv('merged_data.csv', index=False)\n"
      ],
      "metadata": {
        "id": "GDeqG_iTkiHf"
      },
      "execution_count": 2,
      "outputs": []
    },
    {
      "cell_type": "code",
      "source": [
        "merged_data.info()\n",
        "print(merged_data.describe())\n"
      ],
      "metadata": {
        "colab": {
          "base_uri": "https://localhost:8080/"
        },
        "id": "1pl3D4loqi1z",
        "outputId": "e4df9ede-3c94-4614-cf84-cf97770a49f5"
      },
      "execution_count": 3,
      "outputs": [
        {
          "output_type": "stream",
          "name": "stdout",
          "text": [
            "<class 'pandas.core.frame.DataFrame'>\n",
            "Int64Index: 258 entries, 0 to 257\n",
            "Columns: 113 entries, GameId to Tackles\n",
            "dtypes: bool(2), float64(53), int64(34), object(24)\n",
            "memory usage: 226.3+ KB\n",
            "             GameId  RoundId_x  Season_x  SeasonType_x  Group   AwayTeamId  \\\n",
            "count    258.000000      258.0     258.0         258.0    0.0   258.000000   \n",
            "mean   62515.000000     1115.0    2024.0           1.0    NaN   959.193798   \n",
            "std       37.310351        0.0       0.0           0.0    NaN   613.154655   \n",
            "min    62451.000000     1115.0    2024.0           1.0    NaN   508.000000   \n",
            "25%    62483.000000     1115.0    2024.0           1.0    NaN   513.000000   \n",
            "50%    62515.000000     1115.0    2024.0           1.0    NaN   524.000000   \n",
            "75%    62547.000000     1115.0    2024.0           1.0    NaN  1463.000000   \n",
            "max    62579.000000     1115.0    2024.0           1.0    NaN  2195.000000   \n",
            "\n",
            "        HomeTeamId      VenueId        Week  Clock  ...  \\\n",
            "count   258.000000   258.000000  258.000000    0.0  ...   \n",
            "mean    942.674419   471.178295    7.046512    NaN  ...   \n",
            "std     601.402268   696.427085    3.725734    NaN  ...   \n",
            "min     508.000000     1.000000    1.000000    NaN  ...   \n",
            "25%     512.000000     5.000000    4.000000    NaN  ...   \n",
            "50%     518.000000    11.000000    7.000000    NaN  ...   \n",
            "75%    1462.000000   634.000000   10.000000    NaN  ...   \n",
            "max    2195.000000  2318.000000   13.000000    NaN  ...   \n",
            "\n",
            "       GoalkeeperCleanSheets  GoalkeeperWins  PenaltyKickGoals  \\\n",
            "count             258.000000      258.000000        258.000000   \n",
            "mean                0.245349        0.466667          0.174806   \n",
            "std                 0.640463        0.820727          0.535750   \n",
            "min                 0.000000        0.000000          0.000000   \n",
            "25%                 0.000000        0.000000          0.000000   \n",
            "50%                 0.000000        0.000000          0.000000   \n",
            "75%                 0.000000        0.700000          0.000000   \n",
            "max                 3.000000        3.000000          3.000000   \n",
            "\n",
            "       PenaltyKickMisses  PenaltyKickSaves  PenaltiesWon  PenaltiesConceded  \\\n",
            "count         258.000000        258.000000    258.000000         258.000000   \n",
            "mean            0.006977          0.006589      0.158527           0.181783   \n",
            "std             0.075047          0.074823      0.506173           0.538713   \n",
            "min             0.000000          0.000000      0.000000           0.000000   \n",
            "25%             0.000000          0.000000      0.000000           0.000000   \n",
            "50%             0.000000          0.000000      0.000000           0.000000   \n",
            "75%             0.000000          0.000000      0.000000           0.000000   \n",
            "max             0.900000          0.900000      3.000000           3.000000   \n",
            "\n",
            "            Score  OpponentScore     Tackles  \n",
            "count  258.000000     258.000000  258.000000  \n",
            "mean     1.746512       1.746512   16.462791  \n",
            "std      2.203324       2.203324   11.305321  \n",
            "min      0.000000       0.000000    0.800000  \n",
            "25%      0.200000       0.200000    5.475000  \n",
            "50%      0.800000       0.800000   15.250000  \n",
            "75%      2.500000       2.500000   24.075000  \n",
            "max     12.800000      12.800000   48.900000  \n",
            "\n",
            "[8 rows x 87 columns]\n"
          ]
        }
      ]
    },
    {
      "cell_type": "code",
      "source": [
        "# Check for missing values\n",
        "print(merged_data.isnull().sum())\n",
        "\n"
      ],
      "metadata": {
        "colab": {
          "base_uri": "https://localhost:8080/"
        },
        "id": "hSJThCdIq-9i",
        "outputId": "1aa78cbb-d7f8-4883-8c88-4cd133403b5b"
      },
      "execution_count": 4,
      "outputs": [
        {
          "output_type": "stream",
          "name": "stdout",
          "text": [
            "GameId                 0\n",
            "RoundId_x              0\n",
            "Season_x               0\n",
            "SeasonType_x           0\n",
            "Group                258\n",
            "                    ... \n",
            "PenaltiesWon           0\n",
            "PenaltiesConceded      0\n",
            "Score                  0\n",
            "OpponentScore          0\n",
            "Tackles                0\n",
            "Length: 113, dtype: int64\n"
          ]
        }
      ]
    },
    {
      "cell_type": "code",
      "source": [
        "# Check for NaN values in each column\n",
        "nan_values = merged_data.isnull().sum()\n",
        "\n",
        "# Display columns with NaN values and their counts\n",
        "columns_with_nan = nan_values[nan_values > 0]\n",
        "print(columns_with_nan)\n"
      ],
      "metadata": {
        "colab": {
          "base_uri": "https://localhost:8080/"
        },
        "id": "YwaNRs5yrDYP",
        "outputId": "67c98c08-170e-4aa8-df14-75d349ec61f3"
      },
      "execution_count": 5,
      "outputs": [
        {
          "output_type": "stream",
          "name": "stdout",
          "text": [
            "Group                     258\n",
            "Clock                     258\n",
            "AwayTeamScoreExtraTime    258\n",
            "AwayTeamScorePenalty      258\n",
            "HomeTeamScoreExtraTime    258\n",
            "HomeTeamScorePenalty      258\n",
            "Attendance                  2\n",
            "ClockExtra                258\n",
            "ClockDisplay              258\n",
            "PlayoffAggregateScore     258\n",
            "FantasyPointsFanDuel      258\n",
            "FantasyPointsYahoo        258\n",
            "dtype: int64\n"
          ]
        }
      ]
    },
    {
      "cell_type": "code",
      "source": [
        "# Drop columns with too many NaNs\n",
        "columns_to_drop = ['Group', 'Clock', 'AwayTeamScoreExtraTime', 'AwayTeamScorePenalty',\n",
        "                   'HomeTeamScoreExtraTime', 'HomeTeamScorePenalty', 'ClockExtra',\n",
        "                   'ClockDisplay', 'PlayoffAggregateScore', 'FantasyPointsFanDuel',\n",
        "                   'FantasyPointsYahoo','Winner', 'Status']\n",
        "merged_data = merged_data.drop(columns=columns_to_drop)\n"
      ],
      "metadata": {
        "id": "Sx5K3Br4rPq4"
      },
      "execution_count": 6,
      "outputs": []
    },
    {
      "cell_type": "code",
      "source": [
        "\n",
        "\n",
        "# Replace the Winner column with encoded values\n",
        "merged_data['Winner'] = 'Draw'  # Initialize all matches as draws\n",
        "\n",
        "# Set the winner based on scores\n",
        "merged_data.loc[merged_data['AwayTeamScore'] > merged_data['HomeTeamScore'], 'Winner'] = 'AwayWin'  # Away win\n",
        "merged_data.loc[merged_data['AwayTeamScore'] < merged_data['HomeTeamScore'], 'Winner'] = 'HomeWin'  # Home win\n",
        "\n",
        "# Map 'Draw' to 'AwayWin' or 'HomeWin' based on your criteria\n",
        "merged_data['Winner'] = merged_data['Winner'].apply(lambda x: 'HomeWin' if x == 'Draw' else x)\n",
        "\n",
        "# Drop unnecessary columns used for calculations\n",
        "merged_data = merged_data.drop(['AwayTeamScore', 'HomeTeamScore'], axis=1)\n",
        "\n"
      ],
      "metadata": {
        "id": "PJJ__rtgr4GJ"
      },
      "execution_count": 7,
      "outputs": []
    },
    {
      "cell_type": "code",
      "source": [
        "merged_data['Winner']"
      ],
      "metadata": {
        "colab": {
          "base_uri": "https://localhost:8080/"
        },
        "id": "leR_7TJJtC60",
        "outputId": "5a1a4c6e-c477-4195-d68b-d85691a52b55"
      },
      "execution_count": 8,
      "outputs": [
        {
          "output_type": "execute_result",
          "data": {
            "text/plain": [
              "0      HomeWin\n",
              "1      HomeWin\n",
              "2      HomeWin\n",
              "3      HomeWin\n",
              "4      HomeWin\n",
              "        ...   \n",
              "253    AwayWin\n",
              "254    AwayWin\n",
              "255    AwayWin\n",
              "256    HomeWin\n",
              "257    HomeWin\n",
              "Name: Winner, Length: 258, dtype: object"
            ]
          },
          "metadata": {},
          "execution_count": 8
        }
      ]
    },
    {
      "cell_type": "code",
      "source": [
        "# Example for a categorical variable 'HomeOrAway'\n",
        "merged_data['HomeOrAway'].value_counts()"
      ],
      "metadata": {
        "colab": {
          "base_uri": "https://localhost:8080/"
        },
        "id": "ltEq3wQ9tITB",
        "outputId": "5d72df5e-5604-4cc3-99c3-b9bd42ce3555"
      },
      "execution_count": 9,
      "outputs": [
        {
          "output_type": "execute_result",
          "data": {
            "text/plain": [
              "AWAY    129\n",
              "HOME    129\n",
              "Name: HomeOrAway, dtype: int64"
            ]
          },
          "metadata": {},
          "execution_count": 9
        }
      ]
    },
    {
      "cell_type": "code",
      "source": [
        "import seaborn as sns\n",
        "import matplotlib.pyplot as plt\n",
        "\n",
        "# Example: Histogram for a numerical variable 'Possession'\n",
        "sns.histplot(merged_data['Possession'], kde=True)\n",
        "plt.show()"
      ],
      "metadata": {
        "colab": {
          "base_uri": "https://localhost:8080/",
          "height": 449
        },
        "id": "l0uKsIWBtVqS",
        "outputId": "7515ae85-d840-48db-a5c6-fa7a1528f7b0"
      },
      "execution_count": 10,
      "outputs": [
        {
          "output_type": "display_data",
          "data": {
            "text/plain": [
              "<Figure size 640x480 with 1 Axes>"
            ],
            "image/png": "[encoded data removed]"
          },
          "metadata": {}
        }
      ]
    },
    {
      "cell_type": "code",
      "source": [
        "import pandas as pd\n",
        "from sklearn.model_selection import train_test_split\n",
        "from sklearn.linear_model import LogisticRegression\n",
        "from sklearn.impute import SimpleImputer\n",
        "from sklearn.preprocessing import LabelEncoder\n",
        "from sklearn.metrics import accuracy_score\n",
        "\n",
        "# Load the merged data\n",
        "merged_data_df = merged_data\n",
        "\n",
        "# Feature selection (include 'Winner' in features)\n",
        "features = merged_data_df[['RoundId_x', 'AwayTeamId', 'HomeTeamId', 'VenueId', 'Week', 'OverUnder',\n",
        "                            'Attendance', 'Goals', 'DefenderCleanSheets', 'Assists', 'Shots',\n",
        "                            'ShotsOnGoal', 'YellowCards', 'RedCards', 'Passes', 'PassesCompleted',\n",
        "                            'CornersWon', 'Touches', 'GoalkeeperSaves', 'Winner']]\n",
        "\n",
        "# Drop rows with missing 'Winner' values\n",
        "features = features.dropna(subset=['Winner'])\n",
        "\n",
        "# Separate features and target variable\n",
        "X = features.drop('Winner', axis=1)\n",
        "y = features['Winner']\n",
        "\n",
        "# Handle missing values using SimpleImputer\n",
        "imputer = SimpleImputer(strategy='constant', fill_value=0)\n",
        "X_imputed = imputer.fit_transform(X)\n",
        "\n",
        "# Initialize the label encoder\n",
        "label_encoder = LabelEncoder()\n",
        "\n",
        "# Encode the 'Winner' column\n",
        "y_encoded = label_encoder.fit_transform(y)\n",
        "print(y_encoded)\n",
        "\n",
        "# Split the data into training and testing sets\n",
        "X_train, X_test, y_train, y_test = train_test_split(X_imputed, y_encoded, test_size=0.2, random_state=42)\n",
        "\n",
        "# Initialize the logistic regression model\n",
        "model = LogisticRegression(max_iter=10000)\n",
        "\n",
        "# Train the model\n",
        "model.fit(X_train, y_train)\n",
        "\n",
        "# Make predictions on the test set\n",
        "predictions = model.predict(X_test)\n",
        "\n",
        "# Evaluate the model accuracy\n",
        "accuracy = accuracy_score(y_test, predictions)\n",
        "print(f'Model Accuracy: {accuracy}')\n",
        "\n",
        "# Display the coefficients for each feature\n",
        "coefficients = pd.DataFrame({'Feature': X.columns, 'Coefficient': model.coef_[0]})\n",
        "print(coefficients)\n"
      ],
      "metadata": {
        "colab": {
          "base_uri": "https://localhost:8080/"
        },
        "id": "oVQrrKl9taFV",
        "outputId": "0276b1e8-016c-4fd3-bf95-1b4a6dc6450b"
      },
      "execution_count": 11,
      "outputs": [
        {
          "output_type": "stream",
          "name": "stdout",
          "text": [
            "[1 1 1 1 1 1 0 0 0 0 1 1 1 1 1 1 1 1 1 1 0 0 1 1 0 0 1 1 1 1 1 1 1 1 0 0 1\n",
            " 1 0 0 1 1 1 1 0 0 1 1 0 0 0 0 0 0 0 0 0 0 1 1 1 1 0 0 0 0 1 1 1 1 1 1 1 1\n",
            " 1 1 0 0 1 1 1 1 0 0 1 1 0 0 1 1 1 1 1 1 1 1 1 1 1 1 1 1 0 0 1 1 1 1 1 1 0\n",
            " 0 1 1 0 0 1 1 0 0 0 0 0 0 1 1 1 1 1 1 1 1 1 1 1 1 0 0 0 0 0 0 1 1 1 1 1 1\n",
            " 1 1 1 1 1 1 1 1 1 1 1 1 1 1 1 1 1 1 1 1 1 1 1 1 1 1 1 1 1 1 0 0 0 0 1 1 1\n",
            " 1 1 1 0 0 1 1 1 1 1 1 0 0 1 1 1 1 1 1 1 1 1 1 1 1 1 1 1 1 1 1 0 0 1 1 1 1\n",
            " 0 0 1 1 1 1 1 1 1 1 1 1 1 1 1 1 1 1 1 1 1 1 1 1 0 0 0 0 0 0 0 0 0 0 1 1]\n",
            "Model Accuracy: 0.8269230769230769\n",
            "                Feature  Coefficient\n",
            "0             RoundId_x     0.000333\n",
            "1            AwayTeamId     0.001072\n",
            "2            HomeTeamId     0.000678\n",
            "3               VenueId    -0.000713\n",
            "4                  Week     0.026346\n",
            "5             OverUnder    -0.222710\n",
            "6            Attendance     0.000018\n",
            "7                 Goals     0.027868\n",
            "8   DefenderCleanSheets    -0.127587\n",
            "9               Assists    -0.054855\n",
            "10                Shots     0.039559\n",
            "11          ShotsOnGoal    -0.032869\n",
            "12          YellowCards    -0.028570\n",
            "13             RedCards    -0.005991\n",
            "14               Passes     0.001645\n",
            "15      PassesCompleted     0.000789\n",
            "16           CornersWon     0.008434\n",
            "17              Touches    -0.003052\n",
            "18      GoalkeeperSaves     0.001820\n"
          ]
        }
      ]
    },
    {
      "cell_type": "code",
      "source": [
        "def predict_winner_probability(home_team, away_team, model, label_encoder, imputer):\n",
        "    # Convert team names to 'AwayTeamId' and 'HomeTeamId'\n",
        "    away_team_id = merged_data_df.loc[merged_data_df['AwayTeamName'] == away_team, 'AwayTeamId'].iloc[0]\n",
        "    home_team_id = merged_data_df.loc[merged_data_df['HomeTeamName'] == home_team, 'HomeTeamId'].iloc[0]\n",
        "\n",
        "    # Create a DataFrame for the input teams\n",
        "    teams_df = pd.DataFrame({\n",
        "        'RoundId_x': [0],  # Replace with the appropriate value\n",
        "        'AwayTeamId': [away_team_id],\n",
        "        'HomeTeamId': [home_team_id],\n",
        "        'VenueId': [1329],  # Replace with the appropriate value\n",
        "        'Week': [25],  # Replace with the appropriate value\n",
        "        'OverUnder': [0],  # Replace with the appropriate value\n",
        "        'Attendance': [0],  # Replace with the appropriate value\n",
        "        'Goals': [0],  # Replace with the appropriate value\n",
        "        'DefenderCleanSheets': [0],  # Replace with the appropriate value\n",
        "        'Assists': [0],  # Replace with the appropriate value\n",
        "        'Shots': [0],  # Replace with the appropriate value\n",
        "        'ShotsOnGoal': [0],  # Replace with the appropriate value\n",
        "        'YellowCards': [0],  # Replace with the appropriate value\n",
        "        'RedCards': [0],  # Replace with the appropriate value\n",
        "        'Passes': [0],  # Replace with the appropriate value\n",
        "        'PassesCompleted': [0],  # Replace with the appropriate value\n",
        "        'CornersWon': [0],  # Replace with the appropriate value\n",
        "        'Touches': [0],  # Replace with the appropriate value\n",
        "        'GoalkeeperSaves': [0],  # Replace with the appropriate value\n",
        "        'Winner': [0],  # The actual winner doesn't matter for prediction\n",
        "    })\n",
        "\n",
        "    # Impute missing values\n",
        "    features_imputed = imputer.transform(teams_df.drop('Winner', axis=1))\n",
        "\n",
        "    # Make predictions using the model\n",
        "    predictions = model.predict_proba(features_imputed)\n",
        "\n",
        "    # Decode numeric labels back to team names\n",
        "    predicted_winner_label = label_encoder.inverse_transform(model.classes_)[1]  # Assuming class 1 is the winner\n",
        "    predicted_winner_probability = predictions[0][1]  # Probability of winning\n",
        "\n",
        "    return predicted_winner_label, predicted_winner_probability\n",
        "\n",
        "# Example usage:\n",
        "home_team_input = 'Arsenal FC'\n",
        "away_team_input = 'Manchester United FC'\n",
        "\n",
        "try:\n",
        "    winner, probability = predict_winner_probability(home_team_input, away_team_input, model, label_encoder, imputer)\n",
        "    print(f\"Predicted Winner: {winner} with Probability: {probability:.2%}\")\n",
        "except ValueError as e:\n",
        "    print(f\"Error: {e}\")\n",
        "\n",
        "\n"
      ],
      "metadata": {
        "colab": {
          "base_uri": "https://localhost:8080/"
        },
        "id": "2t8VLtV1txvk",
        "outputId": "d759daee-92cb-4d04-e170-466fe76e74be"
      },
      "execution_count": 12,
      "outputs": [
        {
          "output_type": "stream",
          "name": "stdout",
          "text": [
            "Predicted Winner: HomeWin with Probability: 64.81%\n"
          ]
        }
      ]
    },
    {
      "cell_type": "code",
      "source": [
        "def predict_winner_probability(home_team, away_team, model, label_encoder, imputer):\n",
        "    teams_df = merged_data_df[\n",
        "        (merged_data_df['HomeTeamName'].isin([home_team, away_team])) &\n",
        "        (merged_data_df['AwayTeamName'].isin([home_team, away_team]))\n",
        "    ]\n",
        "\n",
        "    # Check if there are any rows in the filtered DataFrame\n",
        "    if teams_df.empty:\n",
        "        raise ValueError(f\"No data available for teams: {home_team} and {away_team}\")\n",
        "\n",
        "    # Drop irrelevant columns and handle missing values\n",
        "    features = teams_df.drop(['Winner'], axis=1)  # Adjust columns accordingly\n",
        "    features_imputed = imputer.transform(features)\n",
        "\n",
        "    # Make predictions using the model\n",
        "    predicted_probabilities = model.predict_proba(features_imputed)\n",
        "\n",
        "    # Decode numeric labels back to team names\n",
        "    predicted_winner_probabilities = list(zip(label_encoder.classes_, predicted_probabilities[0]))\n",
        "\n",
        "    # Sort by probabilities in descending order\n",
        "    predicted_winner_probabilities.sort(key=lambda x: x[1], reverse=True)\n",
        "\n",
        "    return predicted_winner_probabilities\n"
      ],
      "metadata": {
        "id": "8bj6_qzlqvI9"
      },
      "execution_count": 1,
      "outputs": []
    },
    {
      "cell_type": "code",
      "source": [],
      "metadata": {
        "id": "shTIN2aiGtZt"
      },
      "execution_count": null,
      "outputs": []
    }
  ],
  "metadata": {
    "colab": {
      "provenance": []
    },
    "kernelspec": {
      "display_name": "Python 3",
      "name": "python3"
    },
    "language_info": {
      "name": "python"
    }
  },
  "nbformat": 4,
  "nbformat_minor": 0
}